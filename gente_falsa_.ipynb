{
 "cells": [
  {
   "cell_type": "code",
   "execution_count": null,
   "metadata": {},
   "outputs": [],
   "source": [
    "# LOGIN\n",
    "user = ''\n",
    "psswrd = ''"
   ]
  },
  {
   "cell_type": "code",
   "execution_count": null,
   "metadata": {},
   "outputs": [],
   "source": [
    "# IMPORTS\n",
    "from selenium import webdriver\n",
    "from selenium.webdriver import chrome\n",
    "from time import sleep\n",
    "from getpass import getpass\n",
    "from datetime import datetime\n",
    "from selenium.webdriver.chrome.options import Options\n",
    "from selenium.webdriver.chrome.service import Service\n",
    "from webdriver_manager.chrome import ChromeDriverManager\n",
    "from selenium.webdriver.common.by import By\n",
    "from selenium.webdriver.common.action_chains import ActionChains\n",
    "\n",
    "# CHROME\n",
    "option = webdriver.ChromeOptions()\n",
    "#set chrome to English, so we can find element easiler \n",
    "option.add_argument('--lang=en-US')\n",
    "#change size of chrome (option)\n",
    "option.add_argument('--window-size=1200,1000')\n",
    "option.add_experimental_option(\"detach\", True)\n",
    "driver = webdriver.Chrome(options=option, service=Service(ChromeDriverManager().install()))"
   ]
  },
  {
   "cell_type": "code",
   "execution_count": null,
   "metadata": {},
   "outputs": [],
   "source": [
    "# INSTAGRAM E LOGIN\n",
    "driver.get(\"http://www.instagram.com\")\n",
    "\n",
    "sleep(1)\n",
    "\n",
    "username_input = driver.find_element(By.CSS_SELECTOR, \"input[name='username']\")\n",
    "password_input = driver.find_element(By.CSS_SELECTOR, \"input[name='password']\")\n",
    "\n",
    "username_input.send_keys(f\"{user}\")\n",
    "password_input.send_keys(f\"{psswrd}\")\n",
    "\n",
    "login_button = driver.find_element(By.XPATH, \"//button[@type='submit']\"); login_button.click()\n",
    "\n",
    "sleep(3)"
   ]
  },
  {
   "cell_type": "code",
   "execution_count": null,
   "metadata": {},
   "outputs": [],
   "source": [
    "# seguindo\n",
    "\n",
    "# abrindo barra de seguidores\n",
    "driver.get(f\"https://www.instagram.com/{user}/following/\")\n",
    "sleep(3)\n",
    "\n",
    "# scroll pra baixo (abrir todos os seguidores) -- como???\n",
    "# The WebElement you want to scroll to\n",
    "while True:\n",
    "    try:\n",
    "        element = driver.find_element(By.XPATH, '//*[@class=\"_aanq\"]')\n",
    "        driver.execute_script(\"arguments[0].scrollIntoView();\", element)\n",
    "        sleep(2.5)\n",
    "    except:\n",
    "        break\n",
    "\n",
    "# lista dos seguidores\n",
    "im_fllwng = []\n",
    "for e in driver.find_elements(By.XPATH, '//*[@class=\"_aacl _aaco _aacw _aacx _aad7 _aade\"]'):\n",
    "    im_fllwng.append(e.text)\n",
    "\n",
    "sleep(10)\n",
    "len(im_fllwng)"
   ]
  },
  {
   "cell_type": "code",
   "execution_count": null,
   "metadata": {},
   "outputs": [],
   "source": [
    "# seguidores\n",
    "\n",
    "driver.get(f\"https://www.instagram.com/{user}/\")\n",
    "# abrindo barra de seguidores\n",
    "driver.get(f\"https://www.instagram.com/{user}/followers/\")\n",
    "sleep(3)\n",
    "\n",
    "# scroll pra baixo (abrir todos os seguidores) -- como???\n",
    "# The WebElement you want to scroll to\n",
    "while True:\n",
    "    try:\n",
    "        element = driver.find_element(By.XPATH, '//*[@class=\"_aanq\"]')\n",
    "        driver.execute_script(\"arguments[0].scrollIntoView();\", element)\n",
    "        sleep(2.5)\n",
    "    except:\n",
    "        break\n",
    "\n",
    "# lista dos seguidores\n",
    "my_fllwrs = []\n",
    "for e in driver.find_elements(By.XPATH, '//*[@class=\"_aacl _aaco _aacw _aacx _aad7 _aade\"]'):\n",
    "    my_fllwrs.append(e.text)\n",
    "\n",
    "sleep(10)\n",
    "len(my_fllwrs)"
   ]
  },
  {
   "cell_type": "code",
   "execution_count": null,
   "metadata": {},
   "outputs": [],
   "source": [
    "# GENTE FALSA (FAKE PEOPLE)\n",
    "gente_falsa = list(set(im_fllwng).difference(set(my_fllwrs)))\n",
    "print(gente_falsa)"
   ]
  },
  {
   "cell_type": "code",
   "execution_count": null,
   "metadata": {},
   "outputs": [],
   "source": [
    "# FIM\n",
    "sleep(60)\n",
    "driver.close()"
   ]
  }
 ],
 "metadata": {
  "kernelspec": {
   "display_name": "Python 3",
   "language": "python",
   "name": "python3"
  },
  "language_info": {
   "codemirror_mode": {
    "name": "ipython",
    "version": 3
   },
   "file_extension": ".py",
   "mimetype": "text/x-python",
   "name": "python",
   "nbconvert_exporter": "python",
   "pygments_lexer": "ipython3",
   "version": "3.10.11"
  },
  "orig_nbformat": 4
 },
 "nbformat": 4,
 "nbformat_minor": 2
}
