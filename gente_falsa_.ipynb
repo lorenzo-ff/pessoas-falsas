{
 "cells": [
  {
   "cell_type": "code",
   "execution_count": 1,
   "metadata": {},
   "outputs": [],
   "source": [
    "# LOGIN\n",
    "user = ''\n",
    "psswrd = ''"
   ]
  },
  {
   "cell_type": "code",
   "execution_count": 2,
   "metadata": {},
   "outputs": [],
   "source": [
    "# IMPORTS\n",
    "from selenium import webdriver\n",
    "from selenium.webdriver import chrome\n",
    "from time import sleep\n",
    "from getpass import getpass\n",
    "from datetime import datetime\n",
    "from selenium.webdriver.chrome.options import Options\n",
    "from selenium.webdriver.chrome.service import Service\n",
    "from webdriver_manager.chrome import ChromeDriverManager\n",
    "from selenium.webdriver.common.by import By\n",
    "from selenium.webdriver.common.action_chains import ActionChains\n",
    "\n",
    "# CHROME\n",
    "option = webdriver.ChromeOptions()\n",
    "#set chrome to English, so we can find element easiler \n",
    "option.add_argument('--lang=en-US')\n",
    "#change size of chrome (option)\n",
    "option.add_argument('--window-size=1200,1000')\n",
    "option.add_experimental_option(\"detach\", True)\n",
    "driver = webdriver.Chrome(options=option, service=Service(ChromeDriverManager().install()))"
   ]
  },
  {
   "cell_type": "code",
   "execution_count": 4,
   "metadata": {},
   "outputs": [
    {
     "ename": "NoSuchWindowException",
     "evalue": "Message: no such window: target window already closed\nfrom unknown error: web view not found\n  (Session info: chrome=117.0.5938.150)\nStacktrace:\n\tGetHandleVerifier [0x0084CFE3+45267]\n\t(No symbol) [0x007D9741]\n\t(No symbol) [0x006CBE1D]\n\t(No symbol) [0x006B34AE]\n\t(No symbol) [0x0071EFDB]\n\t(No symbol) [0x0072D913]\n\t(No symbol) [0x0071AE36]\n\t(No symbol) [0x006F674E]\n\t(No symbol) [0x006F78ED]\n\tGetHandleVerifier [0x00B05659+2897737]\n\tGetHandleVerifier [0x00B4E78B+3197051]\n\tGetHandleVerifier [0x00B48571+3171937]\n\tGetHandleVerifier [0x008D5E40+606000]\n\t(No symbol) [0x007E338C]\n\t(No symbol) [0x007DF508]\n\t(No symbol) [0x007DF62F]\n\t(No symbol) [0x007D1D27]\n\tBaseThreadInitThunk [0x75FF7BA9+25]\n\tRtlInitializeExceptionChain [0x76F7B79B+107]\n\tRtlClearBits [0x76F7B71F+191]\n",
     "output_type": "error",
     "traceback": [
      "\u001b[1;31m---------------------------------------------------------------------------\u001b[0m",
      "\u001b[1;31mNoSuchWindowException\u001b[0m                     Traceback (most recent call last)",
      "\u001b[1;32mc:\\VS\\USP\\automação_web\\insta_fllw.ipynb Cell 3\u001b[0m line \u001b[0;36m6\n\u001b[0;32m      <a href='vscode-notebook-cell:/c%3A/VS/USP/automa%C3%A7%C3%A3o_web/insta_fllw.ipynb#W1sZmlsZQ%3D%3D?line=1'>2</a>\u001b[0m driver\u001b[39m.\u001b[39mget(\u001b[39m\"\u001b[39m\u001b[39mhttp://www.instagram.com\u001b[39m\u001b[39m\"\u001b[39m)\n\u001b[0;32m      <a href='vscode-notebook-cell:/c%3A/VS/USP/automa%C3%A7%C3%A3o_web/insta_fllw.ipynb#W1sZmlsZQ%3D%3D?line=3'>4</a>\u001b[0m sleep(\u001b[39m1\u001b[39m)\n\u001b[1;32m----> <a href='vscode-notebook-cell:/c%3A/VS/USP/automa%C3%A7%C3%A3o_web/insta_fllw.ipynb#W1sZmlsZQ%3D%3D?line=5'>6</a>\u001b[0m username_input \u001b[39m=\u001b[39m driver\u001b[39m.\u001b[39mfind_element(By\u001b[39m.\u001b[39mCSS_SELECTOR, \u001b[39m\"\u001b[39m\u001b[39minput[name=\u001b[39m\u001b[39m'\u001b[39m\u001b[39musername\u001b[39m\u001b[39m'\u001b[39m\u001b[39m]\u001b[39m\u001b[39m\"\u001b[39m)\n\u001b[0;32m      <a href='vscode-notebook-cell:/c%3A/VS/USP/automa%C3%A7%C3%A3o_web/insta_fllw.ipynb#W1sZmlsZQ%3D%3D?line=6'>7</a>\u001b[0m password_input \u001b[39m=\u001b[39m driver\u001b[39m.\u001b[39mfind_element(By\u001b[39m.\u001b[39mCSS_SELECTOR, \u001b[39m\"\u001b[39m\u001b[39minput[name=\u001b[39m\u001b[39m'\u001b[39m\u001b[39mpassword\u001b[39m\u001b[39m'\u001b[39m\u001b[39m]\u001b[39m\u001b[39m\"\u001b[39m)\n\u001b[0;32m      <a href='vscode-notebook-cell:/c%3A/VS/USP/automa%C3%A7%C3%A3o_web/insta_fllw.ipynb#W1sZmlsZQ%3D%3D?line=8'>9</a>\u001b[0m username_input\u001b[39m.\u001b[39msend_keys(\u001b[39mf\u001b[39m\u001b[39m\"\u001b[39m\u001b[39m{\u001b[39;00muser\u001b[39m}\u001b[39;00m\u001b[39m\"\u001b[39m)\n",
      "File \u001b[1;32m~\\AppData\\Local\\Packages\\PythonSoftwareFoundation.Python.3.10_qbz5n2kfra8p0\\LocalCache\\local-packages\\Python310\\site-packages\\selenium\\webdriver\\remote\\webdriver.py:830\u001b[0m, in \u001b[0;36mWebDriver.find_element\u001b[1;34m(self, by, value)\u001b[0m\n\u001b[0;32m    827\u001b[0m     by \u001b[39m=\u001b[39m By\u001b[39m.\u001b[39mCSS_SELECTOR\n\u001b[0;32m    828\u001b[0m     value \u001b[39m=\u001b[39m \u001b[39mf\u001b[39m\u001b[39m'\u001b[39m\u001b[39m[name=\u001b[39m\u001b[39m\"\u001b[39m\u001b[39m{\u001b[39;00mvalue\u001b[39m}\u001b[39;00m\u001b[39m\"\u001b[39m\u001b[39m]\u001b[39m\u001b[39m'\u001b[39m\n\u001b[1;32m--> 830\u001b[0m \u001b[39mreturn\u001b[39;00m \u001b[39mself\u001b[39;49m\u001b[39m.\u001b[39;49mexecute(Command\u001b[39m.\u001b[39;49mFIND_ELEMENT, {\u001b[39m\"\u001b[39;49m\u001b[39musing\u001b[39;49m\u001b[39m\"\u001b[39;49m: by, \u001b[39m\"\u001b[39;49m\u001b[39mvalue\u001b[39;49m\u001b[39m\"\u001b[39;49m: value})[\u001b[39m\"\u001b[39m\u001b[39mvalue\u001b[39m\u001b[39m\"\u001b[39m]\n",
      "File \u001b[1;32m~\\AppData\\Local\\Packages\\PythonSoftwareFoundation.Python.3.10_qbz5n2kfra8p0\\LocalCache\\local-packages\\Python310\\site-packages\\selenium\\webdriver\\remote\\webdriver.py:440\u001b[0m, in \u001b[0;36mWebDriver.execute\u001b[1;34m(self, driver_command, params)\u001b[0m\n\u001b[0;32m    438\u001b[0m response \u001b[39m=\u001b[39m \u001b[39mself\u001b[39m\u001b[39m.\u001b[39mcommand_executor\u001b[39m.\u001b[39mexecute(driver_command, params)\n\u001b[0;32m    439\u001b[0m \u001b[39mif\u001b[39;00m response:\n\u001b[1;32m--> 440\u001b[0m     \u001b[39mself\u001b[39;49m\u001b[39m.\u001b[39;49merror_handler\u001b[39m.\u001b[39;49mcheck_response(response)\n\u001b[0;32m    441\u001b[0m     response[\u001b[39m\"\u001b[39m\u001b[39mvalue\u001b[39m\u001b[39m\"\u001b[39m] \u001b[39m=\u001b[39m \u001b[39mself\u001b[39m\u001b[39m.\u001b[39m_unwrap_value(response\u001b[39m.\u001b[39mget(\u001b[39m\"\u001b[39m\u001b[39mvalue\u001b[39m\u001b[39m\"\u001b[39m, \u001b[39mNone\u001b[39;00m))\n\u001b[0;32m    442\u001b[0m     \u001b[39mreturn\u001b[39;00m response\n",
      "File \u001b[1;32m~\\AppData\\Local\\Packages\\PythonSoftwareFoundation.Python.3.10_qbz5n2kfra8p0\\LocalCache\\local-packages\\Python310\\site-packages\\selenium\\webdriver\\remote\\errorhandler.py:245\u001b[0m, in \u001b[0;36mErrorHandler.check_response\u001b[1;34m(self, response)\u001b[0m\n\u001b[0;32m    243\u001b[0m         alert_text \u001b[39m=\u001b[39m value[\u001b[39m\"\u001b[39m\u001b[39malert\u001b[39m\u001b[39m\"\u001b[39m]\u001b[39m.\u001b[39mget(\u001b[39m\"\u001b[39m\u001b[39mtext\u001b[39m\u001b[39m\"\u001b[39m)\n\u001b[0;32m    244\u001b[0m     \u001b[39mraise\u001b[39;00m exception_class(message, screen, stacktrace, alert_text)  \u001b[39m# type: ignore[call-arg]  # mypy is not smart enough here\u001b[39;00m\n\u001b[1;32m--> 245\u001b[0m \u001b[39mraise\u001b[39;00m exception_class(message, screen, stacktrace)\n",
      "\u001b[1;31mNoSuchWindowException\u001b[0m: Message: no such window: target window already closed\nfrom unknown error: web view not found\n  (Session info: chrome=117.0.5938.150)\nStacktrace:\n\tGetHandleVerifier [0x0084CFE3+45267]\n\t(No symbol) [0x007D9741]\n\t(No symbol) [0x006CBE1D]\n\t(No symbol) [0x006B34AE]\n\t(No symbol) [0x0071EFDB]\n\t(No symbol) [0x0072D913]\n\t(No symbol) [0x0071AE36]\n\t(No symbol) [0x006F674E]\n\t(No symbol) [0x006F78ED]\n\tGetHandleVerifier [0x00B05659+2897737]\n\tGetHandleVerifier [0x00B4E78B+3197051]\n\tGetHandleVerifier [0x00B48571+3171937]\n\tGetHandleVerifier [0x008D5E40+606000]\n\t(No symbol) [0x007E338C]\n\t(No symbol) [0x007DF508]\n\t(No symbol) [0x007DF62F]\n\t(No symbol) [0x007D1D27]\n\tBaseThreadInitThunk [0x75FF7BA9+25]\n\tRtlInitializeExceptionChain [0x76F7B79B+107]\n\tRtlClearBits [0x76F7B71F+191]\n"
     ]
    }
   ],
   "source": [
    "# INSTAGRAM E LOGIN\n",
    "driver.get(\"http://www.instagram.com\")\n",
    "\n",
    "sleep(1)\n",
    "\n",
    "username_input = driver.find_element(By.CSS_SELECTOR, \"input[name='username']\")\n",
    "password_input = driver.find_element(By.CSS_SELECTOR, \"input[name='password']\")\n",
    "\n",
    "username_input.send_keys(f\"{user}\")\n",
    "password_input.send_keys(f\"{psswrd}\")\n",
    "\n",
    "login_button = driver.find_element(By.XPATH, \"//button[@type='submit']\"); login_button.click()\n",
    "\n",
    "sleep(3)"
   ]
  },
  {
   "cell_type": "code",
   "execution_count": null,
   "metadata": {},
   "outputs": [
    {
     "data": {
      "text/plain": [
       "0"
      ]
     },
     "execution_count": 51,
     "metadata": {},
     "output_type": "execute_result"
    }
   ],
   "source": [
    "# seguindo\n",
    "\n",
    "# abrindo barra de seguidores\n",
    "driver.get(f\"https://www.instagram.com/{user}/following/\")\n",
    "sleep(3)\n",
    "\n",
    "# scroll pra baixo (abrir todos os seguidores) -- como???\n",
    "# The WebElement you want to scroll to\n",
    "while True:\n",
    "    try:\n",
    "        element = driver.find_element(By.XPATH, '//*[@class=\"_aanq\"]')\n",
    "        driver.execute_script(\"arguments[0].scrollIntoView();\", element)\n",
    "        sleep(2.5)\n",
    "    except:\n",
    "        break\n",
    "\n",
    "# lista dos seguidores\n",
    "im_fllwng = []\n",
    "for e in driver.find_elements(By.XPATH, '//*[@class=\"_aacl _aaco _aacw _aacx _aad7 _aade\"]'):\n",
    "    im_fllwng.append(e.text)\n",
    "\n",
    "sleep(10)\n",
    "len(im_fllwng)"
   ]
  },
  {
   "cell_type": "code",
   "execution_count": null,
   "metadata": {},
   "outputs": [
    {
     "data": {
      "text/plain": [
       "0"
      ]
     },
     "execution_count": 52,
     "metadata": {},
     "output_type": "execute_result"
    }
   ],
   "source": [
    "# seguidores\n",
    "\n",
    "driver.get(f\"https://www.instagram.com/{user}/\")\n",
    "# abrindo barra de seguidores\n",
    "driver.get(f\"https://www.instagram.com/{user}/followers/\")\n",
    "sleep(3)\n",
    "\n",
    "# scroll pra baixo (abrir todos os seguidores) -- como???\n",
    "# The WebElement you want to scroll to\n",
    "while True:\n",
    "    try:\n",
    "        element = driver.find_element(By.XPATH, '//*[@class=\"_aanq\"]')\n",
    "        driver.execute_script(\"arguments[0].scrollIntoView();\", element)\n",
    "        sleep(2.5)\n",
    "    except:\n",
    "        break\n",
    "\n",
    "# lista dos seguidores\n",
    "my_fllwrs = []\n",
    "for e in driver.find_elements(By.XPATH, '//*[@class=\"_aacl _aaco _aacw _aacx _aad7 _aade\"]'):\n",
    "    my_fllwrs.append(e.text)\n",
    "\n",
    "sleep(10)\n",
    "len(my_fllwrs)"
   ]
  },
  {
   "cell_type": "code",
   "execution_count": null,
   "metadata": {},
   "outputs": [
    {
     "name": "stdout",
     "output_type": "stream",
     "text": [
      "[]\n"
     ]
    }
   ],
   "source": [
    "# GENTE FALSA (FAKE PEOPLE)\n",
    "gente_falsa = list(set(im_fllwng).difference(set(my_fllwrs)))\n",
    "print(gente_falsa)"
   ]
  },
  {
   "cell_type": "code",
   "execution_count": null,
   "metadata": {},
   "outputs": [],
   "source": [
    "# FIM\n",
    "sleep(60)\n",
    "driver.close()"
   ]
  }
 ],
 "metadata": {
  "kernelspec": {
   "display_name": "Python 3",
   "language": "python",
   "name": "python3"
  },
  "language_info": {
   "codemirror_mode": {
    "name": "ipython",
    "version": 3
   },
   "file_extension": ".py",
   "mimetype": "text/x-python",
   "name": "python",
   "nbconvert_exporter": "python",
   "pygments_lexer": "ipython3",
   "version": "3.10.11"
  },
  "orig_nbformat": 4
 },
 "nbformat": 4,
 "nbformat_minor": 2
}
